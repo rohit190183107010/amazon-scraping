{
 "cells": [
  {
   "cell_type": "code",
   "execution_count": 2,
   "metadata": {},
   "outputs": [
    {
     "name": "stdout",
     "output_type": "stream",
     "text": [
      "<table>\n",
      "<tr><th>Title</th><th>Price</th><th>Rating</th></tr>\n",
      "</table>\n"
     ]
    }
   ],
   "source": [
    "import requests\n",
    "from bs4 import BeautifulSoup\n",
    "\n",
    "# Define the URL to scrape\n",
    "url = 'https://www.amazon.in/s?k=earbuds&i=electronics&sprefix=ear%2Celectronics%2C333&ref=nb_sb_ss_ts-doa-p_1_3'\n",
    "\n",
    "# Send a GET request to the URL\n",
    "response = requests.get(url)\n",
    "\n",
    "# Parse the HTML content of the response using BeautifulSoup\n",
    "soup = BeautifulSoup(response.content, 'html.parser')\n",
    "\n",
    "# Find the top 5 bestselling books in the category\n",
    "books = soup.find_all('div', {'class': 'a-size-base-plus a-color-base a-text-normal'})\n",
    "\n",
    "# Create an HTML table to display the book data\n",
    "html = '<table>\\n<tr><th>Title</th><th>Price</th><th>Rating</th></tr>\\n'\n",
    "\n",
    "# Loop through each book and extract the title, price, and rating\n",
    "for book in books[:5]:\n",
    "    title = book.find('div', {'class': 'a-size-base-plus a-color-base a-text-normal'}).text.strip()\n",
    "    price = book.find('span', {'class': 'a-offscreen'}).text.strip()\n",
    "    rating = book.find('span', {'class': 'a-icon a-icon-star-small a-star-small-4 aok-align-bottom'}).text.strip()\n",
    "    \n",
    "    # Add a row to the HTML table for the book data\n",
    "    html += f'<tr><td>{title}</td><td>{price}</td><td>{rating}</td></tr>\\n'\n",
    "    \n",
    "# Close the HTML table\n",
    "html += '</table>'\n",
    "\n",
    "# Display the HTML table in the console\n",
    "print(html)\n"
   ]
  }
 ],
 "metadata": {
  "kernelspec": {
   "display_name": "Python 3",
   "language": "python",
   "name": "python3"
  },
  "language_info": {
   "codemirror_mode": {
    "name": "ipython",
    "version": 3
   },
   "file_extension": ".py",
   "mimetype": "text/x-python",
   "name": "python",
   "nbconvert_exporter": "python",
   "pygments_lexer": "ipython3",
   "version": "3.11.1"
  },
  "orig_nbformat": 4
 },
 "nbformat": 4,
 "nbformat_minor": 2
}
